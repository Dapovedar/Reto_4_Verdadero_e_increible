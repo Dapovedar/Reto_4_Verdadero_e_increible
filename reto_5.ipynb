{
 "cells": [
  {
   "cell_type": "markdown",
   "metadata": {},
   "source": [
    "# Reto_4_verdadero_e_increible\n",
    "\n",
    "\n",
    "## Problemas:\n",
    "### 1. \n",
    " Dado un número entero, determinar si ese número corresponde al código ASCII de una vocal minúscula."
   ]
  },
  {
   "cell_type": "code",
   "execution_count": 3,
   "metadata": {},
   "outputs": [
    {
     "name": "stdout",
     "output_type": "stream",
     "text": [
      "85  No es una minúscula en ASCII\n"
     ]
    }
   ],
   "source": [
    "#1.Dado un número entero, determinar si ese número corresponde al código ASCII de una vocal minúscula.\n",
    "num_ent:int\n",
    "num_ent=int(input(\"Ingresa un número ASCII de una minúscula:\"))\n",
    "if num_ent>=97 and num_ent<=122:\n",
    "   print(chr(num_ent))\n",
    "else:\n",
    "   print(num_ent,\" No es una minúscula en ASCII\")"
   ]
  },
  {
   "cell_type": "markdown",
   "metadata": {},
   "source": [
    "### 2. \n",
    "Dada una cadena de longitud 1, determine si el código ASCII de primera letra de la cadena es par o no."
   ]
  },
  {
   "cell_type": "code",
   "execution_count": 6,
   "metadata": {},
   "outputs": [
    {
     "name": "stdout",
     "output_type": "stream",
     "text": [
      "la cadena  A  es impar\n"
     ]
    }
   ],
   "source": [
    "#2.Dada una cadena de longitud 1, determine si el código ASCII de primera letra de la cadena es par o no.\n",
    "cadena:str\n",
    "cod_ascii:int\n",
    "cadena=str(input(\"Ingresa una cadena de longitud 1\"))\n",
    "cod_ascii=ord(cadena)\n",
    "if (cod_ascii%2)==0:\n",
    "    print(\"La letra \", cadena ,\" es par\")\n",
    "else:\n",
    "    print(\"la cadena \", cadena ,\" es impar\")"
   ]
  },
  {
   "cell_type": "markdown",
   "metadata": {},
   "source": [
    "## 3.\n",
    "Dado un carácter, construya un programa en Python para determinar si el carácter es un dígito o no."
   ]
  },
  {
   "cell_type": "code",
   "execution_count": null,
   "metadata": {},
   "outputs": [
    {
     "name": "stdout",
     "output_type": "stream",
     "text": [
      "53\n",
      "El caracter 5 es un dígito.\n"
     ]
    }
   ],
   "source": [
    "#3.Dado un carácter, construya un programa en Python para determinar si el carácter es un dígito o no.\n",
    "caracter=input(\"Ingrese un caracter Ascii:\")\n",
    "if ord(caracter)>=48 and ord(caracter)<=57:\n",
    "    print(\"El caracter\", caracter,\"es un dígito.\")\n",
    "else:\n",
    "    print(\"el caracter\", caracter,\" no es un dígito.\")"
   ]
  },
  {
   "cell_type": "markdown",
   "metadata": {},
   "source": [
    "## 4.\n",
    "Realice un programa que lea dos números reales y determine si el primero es múltiplo del segundo."
   ]
  },
  {
   "cell_type": "code",
   "execution_count": null,
   "metadata": {},
   "outputs": [
    {
     "name": "stdout",
     "output_type": "stream",
     "text": [
      "a es múltiplo de b\n"
     ]
    }
   ],
   "source": [
    "#4.Realice un programa que lea dos números reales y determine si el primero es múltiplo del segundo.\n",
    "a:float\n",
    "b:float\n",
    "a=float(input(\"Ingrese un número\"))\n",
    "b=float(input(\"Ingrese un segundo número\"))\n",
    "\n",
    "if a%b==0:\n",
    "    print(a,\" es múltiplo de \",b)\n",
    "else:\n",
    "    print(a,\" no es múltiplo de \",b)\n",
    "    "
   ]
  },
  {
   "cell_type": "markdown",
   "metadata": {},
   "source": [
    "# 5. \n",
    "Dado un número real x, construya un programa que permita determinar si el número es positivo, negativo o cero. Para cada caso de debe imprimir el texto que se especifica a continuación:\n"
   ]
  },
  {
   "cell_type": "code",
   "execution_count": null,
   "metadata": {},
   "outputs": [
    {
     "name": "stdout",
     "output_type": "stream",
     "text": [
      "El número x es positivo\n"
     ]
    }
   ],
   "source": [
    "#5Dado un número real x, construya un programa que permita determinar si el número es positivo, negativo o cero. Para cada caso de debe imprimir el texto que se especifica a continuación:\n",
    "\n",
    "#positivo: \"El número x es positivo\"\n",
    "#Negativo: \"El número x es negativo\"\n",
    "#Cero (0): \"El número x es el neutro para la suma\"\n",
    "\n",
    "x:float\n",
    "x=float(input(\"Ingrese un número real\"))\n",
    "\n",
    "if x>0:\n",
    "    print(\"El número \", x,\" es positivo\")\n",
    "elif x<0:\n",
    "    print(\"El número \", x,\" es negativo\")\n",
    "else:\n",
    "    print(\"El número \", x,\" es el neutro para la suma\")\n"
   ]
  },
  {
   "cell_type": "markdown",
   "metadata": {},
   "source": [
    "## 6. \n",
    "Dado el centro y el radio de un círculo, determinar si un punto de R2 pertenece o no al interior del círculo."
   ]
  },
  {
   "cell_type": "code",
   "execution_count": null,
   "metadata": {},
   "outputs": [
    {
     "name": "stdout",
     "output_type": "stream",
     "text": [
      "El punto está dentro del círculo\n"
     ]
    }
   ],
   "source": [
    "#6 Dado el centro y el radio de un círculo, determinar si un punto de R2 pertenece o no al interior del círculo.\n",
    "centroh:float\n",
    "centrok:float\n",
    "radio:float\n",
    "x:float\n",
    "y:float\n",
    "\n",
    "centroh=float(input(\"Ingrese la primera coordenada del centro del círculo:\"))\n",
    "centrok=float(input(\"Ingrese la segunda coordenada del centro del círculo:\"))\n",
    "radio=float(input(\"Ingrese el radio del círculo:\"))\n",
    "x=float(input(\"Ingrese la primera coordenada del punto:\"))\n",
    "y=float(input(\"Ingrese la segunda coordenada del punto\"))\n",
    "\n",
    "if (((x-centroh)**2)+((y-centrok)**2))**(1/2)<=radio:\n",
    "    print(\"El punto \",\"(\",x,\";\", y ,\")\",\" está dentro del círculo\")\n",
    "else:\n",
    "    print(\"El punto \",\"(\",x,\";\", y ,\")\",\"  está fuera del círculo\")"
   ]
  },
  {
   "cell_type": "markdown",
   "metadata": {},
   "source": [
    "## 7. \n",
    "Dadas tres longitudes positivas, determinar si con esas longitudes se puede construir un triángulo."
   ]
  },
  {
   "cell_type": "code",
   "execution_count": 23,
   "metadata": {},
   "outputs": [
    {
     "name": "stdout",
     "output_type": "stream",
     "text": [
      "Se puede construir un triángulo\n"
     ]
    }
   ],
   "source": [
    "#7 Dadas tres longitudes positivas, determinar si con esas longitudes se puede construir un triángulo.\n",
    "Longitud_A:float\n",
    "Longitud_B:float\n",
    "Longitud_C:float\n",
    "\n",
    "Longitud_A=float(input(\"Ingrese la primera longitud del triángulo: \"))\n",
    "Longitud_B=float(input(\"Ingrese la segunda longitud del triángulo: \"))\n",
    "Longitud_C=float(input(\"Ingrese la tercera longitud del triángulo: \"))\n",
    "\n",
    "Longitud_A = Longitud_A if Longitud_A >= 0 else -Longitud_A\n",
    "Longitud_B = Longitud_B if Longitud_B >= 0 else -Longitud_B\n",
    "Longitud_C = Longitud_C if Longitud_C >= 0 else -Longitud_C\n",
    "\n",
    "if Longitud_A+Longitud_B>Longitud_C and Longitud_A+Longitud_C>Longitud_B and Longitud_B+Longitud_C>Longitud_A :\n",
    "    print(\"Se puede construir un triángulo\")\n",
    "else:\n",
    "    print(\"No se puede construir un triángulo\")\n"
   ]
  },
  {
   "cell_type": "markdown",
   "metadata": {},
   "source": [
    "## 8 \n",
    "Escriba un programa que reciba el nombre en minúsculas de un país de America y retorne la ciudad capital, si el país no pertenece al continente debe arrojar país no identificado (Utilice match-case)."
   ]
  },
  {
   "cell_type": "code",
   "execution_count": null,
   "metadata": {},
   "outputs": [
    {
     "name": "stdout",
     "output_type": "stream",
     "text": [
      "La capital es: Washington D.C.\n"
     ]
    }
   ],
   "source": [
    "#8 Escriba un programa que reciba el nombre en minúsculas de un país de America y retorne la ciudad capital, si el país no pertenece al continente debe arrojar país no identificado (Utilice match-case).\n",
    "capital:str\n",
    "capital= str(input(\"Escriba el nombre del país de América que quiera saber la capital (en minúsculas y con tildes)\"))\n",
    "\n",
    "match capital:\n",
    "  case \"colombia\":\n",
    "    print(\"La capital es: Bogotá\")\n",
    "  case \"venezuela\":\n",
    "    print(\"La capital es: Caracas\")\n",
    "  case \"peru\":\n",
    "    print(\"La capital es: Lima\")\n",
    "  case \"paraguay\":\n",
    "    print(\"La capital es: Asunción\")\n",
    "  case \"uruguay\":\n",
    "    print(\"La capital es: Montevideo\")\n",
    "\n",
    "  case \"chile\":\n",
    "    print(\"La capital es: Santiago de Chile\")\n",
    "  case \"argentina\":\n",
    "    print(\"La capital es: Buenos Aires\")\n",
    "  case \"brasil\":\n",
    "    print(\"La capital es: Brasilia\")\n",
    "  case \"ecuador\":\n",
    "    print(\"La capital es: Quito\")\n",
    "  case \"panamá\":\n",
    "    print(\"La capital es: Ciudad de Panamá\")\n",
    "  case \"estados unidos de américa\":\n",
    "    print(\"La capital es: Washington D.C.\")\n",
    "  case \"estados unidos\":\n",
    "    print(\"La capital es: Washington D.C.\")\n",
    "  case \"méxico\":\n",
    "    print(\"La capital es: Ciudad de México\")\n",
    "  case \"costa rica\":\n",
    "    print(\"La capital es: San José\")\n",
    "  case \"bolivia\":\n",
    "    print(\"La capital es: La Paz\")\n",
    "  case \"surinam\":\n",
    "    print(\"La capital es: Paramaribo\")\n",
    "  case \"guyana\":\n",
    "    print(\"La capital es: Georgetown\")\n",
    "  case \"haití\":\n",
    "    print(\"La capital es: Puerto Príncipe\")\n",
    "  case \"república dominicana\":\n",
    "    print(\"La capital es: Santo Domingo\")\n",
    "  case \"cuba\":\n",
    "    print(\"La capital es: La Habana\")\n",
    "  case \"honduras\":\n",
    "    print(\"La capital es: Tegucigalpa\")\n",
    "  case \"canadá\":\n",
    "    print(\"La capital es: Ottawa\")\n",
    "  case \"guatemala\":\n",
    "    print(\"La capital es: Ciudad de Guatemala\")\n",
    "  case \"nicaragua\":\n",
    "    print(\"La capital es: Managua\")\n",
    "  case \"el salvador\":\n",
    "    print(\"La capital es: San Salvador\")\n",
    "  case \"belice\":\n",
    "    print(\"La capital es: Belmopán\")\n",
    "  case \"jamaica\":\n",
    "    print(\"La capital es: Kingston\")\n",
    "  case \"bahamas\":\n",
    "    print(\"La capital es: Nasáu\")\n",
    "  case \"trinidad y tobago\":\n",
    "    print(\"La capital es: Puerto España\")\n",
    "  case \"dominica\":\n",
    "    print(\"La capital es: Roseau\")\n",
    "  case \"antigua y barbuda\":\n",
    "    print(\"La capital es: Saint John\")\n",
    "  case \"san josé y nieves\":\n",
    "    print(\"La capital es: Basseterre\")\n",
    "  case \"granada\":\n",
    "    print(\"La capital es: Saint George\")\n",
    "  case \"san vicente y las granadinas\":\n",
    "    print(\"La capital es: Kingstown\")\n",
    "  case \"santa lucía\":\n",
    "    print(\"La capital es: Castries\")\n",
    "  case \"barbados\":\n",
    "    print(\"La capital es:Bridgetown\")\n",
    "  case _:\n",
    "    print(\"Ese país no se encuentra en el continente americano.\")"
   ]
  }
 ],
 "metadata": {
  "kernelspec": {
   "display_name": "Python 3",
   "language": "python",
   "name": "python3"
  },
  "language_info": {
   "codemirror_mode": {
    "name": "ipython",
    "version": 3
   },
   "file_extension": ".py",
   "mimetype": "text/x-python",
   "name": "python",
   "nbconvert_exporter": "python",
   "pygments_lexer": "ipython3",
   "version": "3.12.7"
  }
 },
 "nbformat": 4,
 "nbformat_minor": 2
}
